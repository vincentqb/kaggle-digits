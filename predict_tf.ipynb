{
 "cells": [
  {
   "cell_type": "markdown",
   "metadata": {},
   "source": [
    "# Kaggle Digit Recognition\n",
    "\n",
    "This is one of the problem proposed on Kaggle: handwritten digit recognition using the MNIST data. We use scikit-learn."
   ]
  },
  {
   "cell_type": "code",
   "execution_count": null,
   "metadata": {
    "collapsed": false
   },
   "outputs": [],
   "source": [
    "import pandas as pd\n",
    "from time import clock"
   ]
  },
  {
   "cell_type": "markdown",
   "metadata": {},
   "source": [
    "We begin by loading the both the training and the testing data."
   ]
  },
  {
   "cell_type": "code",
   "execution_count": null,
   "metadata": {
    "collapsed": false
   },
   "outputs": [],
   "source": [
    "# Read training data\n",
    "start = clock()\n",
    "\n",
    "train_frame = pd.read_csv('data/train.csv')\n",
    "label = train_frame['label'].values\n",
    "train = train_frame.iloc[:,1:].values\n",
    "# train = train.reshape(-1,28,28)\n",
    "\n",
    "print('Loaded {:d} train entries in {:.0f} seconds.'.format(len(train), clock() - start))\n",
    "\n",
    "# Train on fewer entries\n",
    "# label = label[0::10]\n",
    "# train = train[0::10]\n",
    "\n",
    "# Read test data \n",
    "start = clock()\n",
    "\n",
    "test_frame = pd.read_csv('data/test.csv')\n",
    "test = test_frame.values\n",
    "# test = test.reshape(-1,28,28)\n",
    "\n",
    "print('Loaded {:d} test entries in {:.0f} seconds.'.format(len(test), clock() - start))"
   ]
  },
  {
   "cell_type": "markdown",
   "metadata": {},
   "source": [
    "# Select Classifier\n",
    "\n",
    "There are a few ready-to-use classifier in scikit flow."
   ]
  },
  {
   "cell_type": "code",
   "execution_count": null,
   "metadata": {
    "collapsed": false
   },
   "outputs": [],
   "source": [
    "# Scikit Flow has the following choices of optimizer: SGD, Adam, Adagrad\n",
    "\n",
    "# from skflow import TensorFlowLinearClassifier\n",
    "# clf = TensorFlowLinearClassifier(n_classes = 10, \n",
    "                                # batch_size = 256, steps = 1400, learning_rate = 0.01, \n",
    "                                # optimizer = 'Adagrad')\n",
    "\n",
    "# from skflow import TensorFlowLinearRegressor\n",
    "# clf = TensorFlowLinearRegressor(n_classes = 10, \n",
    "                                # batch_size = 256, steps = 1400, learning_rate = 0.01, \n",
    "                                # optimizer = 'Adagrad')\n",
    "\n",
    "from skflow import TensorFlowDNNClassifier\n",
    "clf = TensorFlowDNNClassifier(hidden_units = [100, 200, 200, 200, 100],\n",
    "                              n_classes = 10, batch_size = 256, steps = 1000, learning_rate = 0.01, \n",
    "                              optimizer = 'Adagrad')"
   ]
  },
  {
   "cell_type": "markdown",
   "metadata": {},
   "source": [
    "# Train, Extrapolate\n",
    "We are now ready to fit the classifier to the training data, predict/extrapolate to the test data, and save the results."
   ]
  },
  {
   "cell_type": "code",
   "execution_count": null,
   "metadata": {
    "collapsed": false
   },
   "outputs": [],
   "source": [
    "# Fit training data\n",
    "\n",
    "start = clock()\n",
    "clf.fit(train, label)\n",
    "print(\"Fitted training data in {:.0f} seconds.\".format(clock() - start))\n",
    "\n",
    "# Extrapolate to test data\n",
    "\n",
    "start = clock()\n",
    "predict = clf.predict(test)\n",
    "print(\"Extrapolated to test data in {:.0f} seconds.\".format(clock() - start))\n",
    "\n",
    "# Save results\n",
    "\n",
    "test_frame['ImageId'] = range(1,len(test)+1)\n",
    "test_frame['Label'] = predict\n",
    "test_frame.to_csv('predict.csv', cols = ('ImageId', 'Label'), index = None)"
   ]
  }
 ],
 "metadata": {
  "kernelspec": {
   "display_name": "Python 3",
   "language": "python",
   "name": "python3"
  },
  "language_info": {
   "codemirror_mode": {
    "name": "ipython",
    "version": 3
   },
   "file_extension": ".py",
   "mimetype": "text/x-python",
   "name": "python",
   "nbconvert_exporter": "python",
   "pygments_lexer": "ipython3",
   "version": "3.4.3"
  }
 },
 "nbformat": 4,
 "nbformat_minor": 0
}
